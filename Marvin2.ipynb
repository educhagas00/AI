{
  "nbformat": 4,
  "nbformat_minor": 0,
  "metadata": {
    "colab": {
      "provenance": []
    },
    "kernelspec": {
      "name": "python3",
      "display_name": "Python 3"
    },
    "language_info": {
      "name": "python"
    }
  },
  "cells": [
    {
      "cell_type": "markdown",
      "source": [
        "Nome: Eduardo Chagas Pereira\n",
        "\n",
        "Matrícula: 20220022746\n",
        "\n",
        "\n",
        "#Exercício Prático 2 🤖\n",
        "\n",
        "\n",
        "\n",
        "Neste exercício foi proposto que implementemos um simulador de ambiente para medição de desempenho de um aspirador de pó e sua ação em salas sujas. Vamos começar com o problema.\n",
        "\n",
        "##O problema\n",
        "Um aspirador de pó (que carinhosamente chamaremos de Marvin) deverá ser responsável pela limpeza do ambiente de dois quartos. Os quartos com o passar do tempo podem ficar sujos e o agente se movimenta entre as salas e percebe a sujeira ***mesmo não estando na mesma sala***. Detalhe que o agente recebe 1 ponto para cada vez que limpar uma sala.\n",
        "\n",
        "##Classe agente\n",
        "\n",
        "Aqui criamos a classe responsável pelo agente, o aspirador de pó.\n"
      ],
      "metadata": {
        "id": "gXprtkl0Hi7R"
      }
    },
    {
      "cell_type": "code",
      "source": [
        "class Aspirador:\n",
        "    def __init__(self, posicao):\n",
        "        self.posicao = posicao\n",
        "        self.pontos = 0\n",
        "\n",
        "    def start(self, quartos):\n",
        "        self.visao(quartos)\n",
        "\n",
        "    def limpaQuarto(self, quartos):\n",
        "            quartos[self.posicao].setSujo(0)\n",
        "            self.pontos += 1\n",
        "            self.NoOp()"
      ],
      "metadata": {
        "id": "xTPGsQp5H65p"
      },
      "execution_count": 1,
      "outputs": []
    },
    {
      "cell_type": "markdown",
      "source": [
        "Aqui, temos alguns métodos referentes a criação e a função principal do Marvin. Primeiro, precisamos de um método que faça o agente começar a trabalhar, o \"start\" que já manda para a nossa função mais importante (vamos chegar lá). Nosso método \"limpaQuarto\" fará a limpeza do quarto em que está presente e somará 1 ponto para o aspirador."
      ],
      "metadata": {
        "id": "cfwABISXIOWe"
      }
    },
    {
      "cell_type": "code",
      "source": [
        "def direita(self):\n",
        "        self.posicao += 1\n",
        "\n",
        "def esquerda(self):\n",
        "        self.posicao -= 1\n",
        "\n",
        "def NoOp(self):\n",
        "        pass\n",
        "\n",
        "def getPontos(self):\n",
        "        return self.pontos"
      ],
      "metadata": {
        "id": "RAlXvoeCIxVD"
      },
      "execution_count": null,
      "outputs": []
    },
    {
      "cell_type": "markdown",
      "source": [
        "As funções de movimento basicamente pegam a posicao atual do aspirador e somam ou diminuem em relação ao array de quartos. Temos também a função de NoOp, onde o aspirador não fará nada, função essa que se apresentará frequentemente usada, pois a lógica principal é o aspirador apenas mover se outro quarto estiver sujo. Por fim, temos uma função que retorna a quantidade de pontos obtidos."
      ],
      "metadata": {
        "id": "orH1eN0IMvhA"
      }
    },
    {
      "cell_type": "code",
      "source": [
        "def visao(self, quartos):\n",
        "\n",
        "    if(quartos[self.posicao].getSujo()):\n",
        "        self.limpaQuarto(quartos)\n",
        "\n",
        "    elif(self.posicao + 1 < len(quartos)):\n",
        "        if(quartos[self.posicao + 1].getSujo()):\n",
        "            self.direita()\n",
        "            self.limpaQuarto(quartos)\n",
        "\n",
        "    elif(quartos[self.posicao - 1].getSujo()):\n",
        "        self.esquerda()\n",
        "        self.limpaQuarto(quartos)\n"
      ],
      "metadata": {
        "id": "R1t4WfKDOBiI"
      },
      "execution_count": null,
      "outputs": []
    },
    {
      "cell_type": "markdown",
      "source": [
        "Finalmente, a função \"visao\" que prevê se os quartos (mesmo os com o aspirador não presente) estão sujos. Ele verifica se a próxima posição que o aspirador está ultrapassa o array para saber se possui mais quartos à direita do aspirador verifica se está mesma posição se encontra suja. Se estiver suja ele chama a função de movimento para a direita e de limpeza do quarto. Da mesma forma, a função \"visao\" precisa verificar se a posição à esquerda do aspirador."
      ],
      "metadata": {
        "id": "sk3pFKlpOQf7"
      }
    },
    {
      "cell_type": "markdown",
      "source": [
        "##Classe Quarto\n",
        "\n",
        "\n",
        "Agora, estaremos a analisando a classe referente ao quarto."
      ],
      "metadata": {
        "id": "uvTCQm-5Tlcy"
      }
    },
    {
      "cell_type": "code",
      "source": [
        "class Quarto:\n",
        "    def __init__(self, sujo):\n",
        "        self.sujo = sujo # sujo == 1 / limpo == 0\n",
        "\n",
        "    def getSujo(self):\n",
        "        return self.sujo\n",
        "\n",
        "    def setSujo(self, sujo):\n",
        "        self.sujo = sujo"
      ],
      "metadata": {
        "id": "8Q4NhqptTryZ"
      },
      "execution_count": null,
      "outputs": []
    },
    {
      "cell_type": "markdown",
      "source": [
        "Nosso quarto possui dois métodos referentes a sujeira, onde retornamos true (ou 1) se o quarto está sujo e false (ou 0) se estiver limpo. E o outro método que altera o valor do sujo, onde usamos anteriormente para alterar (limpar) o valor do quarto para 0.\n",
        "\n",
        "##Função Principal"
      ],
      "metadata": {
        "id": "ZQpfhTcpTu2s"
      }
    },
    {
      "cell_type": "code",
      "source": [
        "import random"
      ],
      "metadata": {
        "id": "rGSzKCzcT6QI"
      },
      "execution_count": null,
      "outputs": []
    },
    {
      "cell_type": "code",
      "source": [
        "def main(timer):\n",
        "    Marvin = Aspirador(random.randint(0, 1)) #aparecer em quarto aleatorio\n",
        "    quartos = []\n",
        "\n",
        "    for i in range(0, 2):\n",
        "        quartos.insert(i, Quarto(random.randint(0, 1)))\n",
        "\n",
        "\n",
        "    for i in range(0, timer):\n",
        "        Marvin.start(quartos)\n",
        "\n",
        "        for quarto in quartos:\n",
        "           quarto.setSujo(random.randint(0, 1))\n",
        "\n",
        "    print(\"Marvin 2: \" + str(Marvin.getPontos()))\n",
        "\n",
        "main(1000)\n"
      ],
      "metadata": {
        "id": "Y2NmWdkfT9i9"
      },
      "execution_count": null,
      "outputs": []
    },
    {
      "cell_type": "markdown",
      "source": [
        "Por fim, nossa função principal instancia nosso Marvin e o posiciona em algum dos quartos de forma aleatória usando uma função do import \"random\". Após isso, iremos selecionar de forma aleatória os quartos que forem ficar sujos. Definimos um timer que faz essa passada em 1000 tempos e após todo esse período, printar a quantidade de pontos que ele fez ao limpar os quartos.\n",
        "\n",
        "#Código completo\n"
      ],
      "metadata": {
        "id": "lpSX5YsoT-U7"
      }
    },
    {
      "cell_type": "code",
      "source": [
        "import random\n",
        "\n",
        "class Aspirador:\n",
        "    def __init__(self, posicao):\n",
        "        self.posicao = posicao\n",
        "        self.pontos = 0\n",
        "\n",
        "    def start(self, quartos):\n",
        "        self.visao(quartos)\n",
        "\n",
        "    def direita(self):\n",
        "        self.posicao += 1\n",
        "\n",
        "    def esquerda(self):\n",
        "        self.posicao -= 1\n",
        "\n",
        "    def limpaQuarto(self, quartos):\n",
        "            quartos[self.posicao].setSujo(0)\n",
        "            self.pontos += 1\n",
        "            self.NoOp()\n",
        "\n",
        "    def NoOp(self):\n",
        "        pass\n",
        "\n",
        "    def getPontos(self):\n",
        "        return self.pontos\n",
        "\n",
        "    def visao(self, quartos):\n",
        "\n",
        "        if(quartos[self.posicao].getSujo()):\n",
        "            self.limpaQuarto(quartos)\n",
        "\n",
        "        elif(self.posicao + 1 < len(quartos)):\n",
        "           if(quartos[self.posicao + 1].getSujo()):\n",
        "                self.direita()\n",
        "                self.limpaQuarto(quartos)\n",
        "\n",
        "        elif(quartos[self.posicao - 1].getSujo()):\n",
        "            self.esquerda()\n",
        "            self.limpaQuarto(quartos)\n",
        "\n",
        "class Quarto:\n",
        "    def __init__(self, sujo):\n",
        "        self.sujo = sujo # sujo == 1 / limpo == 0\n",
        "\n",
        "    def getSujo(self):\n",
        "        return self.sujo\n",
        "\n",
        "    def setSujo(self, sujo):\n",
        "        self.sujo = sujo\n",
        "\n",
        "\n",
        "def main(timer):\n",
        "    Marvin = Aspirador(random.randint(0, 1)) #aparecer em quarto aleatorio\n",
        "    quartos = []\n",
        "\n",
        "    for i in range(0, 2):\n",
        "        quartos.insert(i, Quarto(random.randint(0, 1)))\n",
        "\n",
        "\n",
        "    for i in range(0, timer):\n",
        "        Marvin.start(quartos)\n",
        "\n",
        "        for quarto in quartos:\n",
        "           quarto.setSujo(random.randint(0, 1))\n",
        "\n",
        "    print(\"Marvin 2: \" + str(Marvin.getPontos()))\n",
        "\n",
        "main(1000)\n",
        "\n"
      ],
      "metadata": {
        "colab": {
          "base_uri": "https://localhost:8080/"
        },
        "id": "iKBRLzbtUEq6",
        "outputId": "3dc4845d-1019-4fd2-aedc-05d7274e8ac2"
      },
      "execution_count": 7,
      "outputs": [
        {
          "output_type": "stream",
          "name": "stdout",
          "text": [
            "Marvin 2: 740\n"
          ]
        }
      ]
    },
    {
      "cell_type": "markdown",
      "source": [
        "Podemos ver que em relação ao antigo problema, onde o ambiente era parcialmente observável, o aspirador conseguiu obter uma melhora em seu desempenho por saber à priori a geografia do ambiente."
      ],
      "metadata": {
        "id": "xLWBxxQnUgQI"
      }
    }
  ]
}
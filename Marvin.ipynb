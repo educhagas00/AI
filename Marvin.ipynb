{
  "nbformat": 4,
  "nbformat_minor": 0,
  "metadata": {
    "colab": {
      "provenance": []
    },
    "kernelspec": {
      "name": "python3",
      "display_name": "Python 3"
    },
    "language_info": {
      "name": "python"
    }
  },
  "cells": [
    {
      "cell_type": "markdown",
      "source": [
        "Nome: Eduardo Chagas Pereira\n",
        "\n",
        "Matrícula: 20220022746\n",
        "\n",
        "\n",
        "#Exercício Prático 🤖\n",
        "\n",
        "\n",
        "\n",
        "Neste exercício foi proposto que implementemos um simulador de ambiente para medição de desempenho de um aspirador de pó e sua ação em salas sujas. Vamos começar com o problema.\n",
        "\n",
        "##O problema\n",
        "Um aspirador de pó (que carinhosamente chamaremos de Marvin) deverá ser responsável pela limpeza do ambiente de dois quartos. Os quartos com o passar do tempo podem ficar sujos e o agente se movimenta entre as salas e percebe a sujeira ***apenas*** se estiver na mesma sala. Detalhe que o agente recebe 1 ponto para cada vez que limpar uma sala.\n",
        "\n",
        "##Classe agente\n",
        "\n",
        "Aqui criamos a classe responsável pelo agente, o aspirador de pó.\n"
      ],
      "metadata": {
        "id": "JW1bKC2ynZUU"
      }
    },
    {
      "cell_type": "code",
      "source": [
        "class Aspirador:\n",
        "    def __init__(self, posicao):\n",
        "        self.posicao = posicao\n",
        "        self.pontos = 0\n",
        "\n",
        "    def start(self, quartos):\n",
        "        self.limpaQuarto(quartos)\n",
        "\n",
        "    def limpaQuarto(self, quartos):\n",
        "      if (quartos[self.posicao].getSujo()):\n",
        "          quartos[self.posicao].setSujo(0)\n",
        "          self.pontos += 1\n",
        "          self.mover(quartos)\n",
        "      else:\n",
        "          self.NoOp()\n",
        "          self.mover(quartos)\n",
        "\n",
        "    def getPontos(self):\n",
        "        return self.pontos"
      ],
      "metadata": {
        "id": "J-BfaT7nntI-"
      },
      "execution_count": 3,
      "outputs": []
    },
    {
      "cell_type": "markdown",
      "source": [
        "Aqui, temos alguns métodos referentes a criação e a função principal do Marvin. Primeiro, precisamos de um método que faça o agente começar a trabalhar, o \"start\".\n",
        "Nosso método \"limpaQuarto\", ao receber o array de quartos, verifica se a sala em que o agente estiver presente está de fato suja. Se estiver, ele fará a limpeza (veremos como), somará em mais 1 ponto e moverá entre os quartos (veremos como também). Se ele não estiver sujo ele não fará a limpeza e irá se mover entre os quartos."
      ],
      "metadata": {
        "id": "g6wMNnJ7tCLZ"
      }
    },
    {
      "cell_type": "code",
      "source": [
        "\n",
        "    def mover(self, quartos):\n",
        "        if (self.posicao + 1 < len(quartos)):\n",
        "            self.direita()\n",
        "        else:\n",
        "            self.esquerda()\n",
        "\n",
        "    def direita(self):\n",
        "        self.posicao += 1\n",
        "\n",
        "    def esquerda(self):\n",
        "        self.posicao -= 1\n",
        "\n",
        "    def NoOp(self):\n",
        "        pass"
      ],
      "metadata": {
        "id": "E4azONP1vLsg"
      },
      "execution_count": 5,
      "outputs": []
    },
    {
      "cell_type": "markdown",
      "source": [],
      "metadata": {
        "id": "-FEnsixu6O6a"
      }
    },
    {
      "cell_type": "markdown",
      "source": [
        "Aqui, nosso método de movimento verifica se a próxima posição à que o agente está é menor que a quantidade de quartos. Dependendo da opção, o agente segue para a direita, onde sua posição é acrescentada em 1 unidade e decrementada em 1 em caso contrário.\n",
        "\n",
        "\n",
        "##Classe Quarto\n",
        "\n",
        "Agora, estaremos a analisando a classe referente ao quarto."
      ],
      "metadata": {
        "id": "50W7aRGayJcM"
      }
    },
    {
      "cell_type": "code",
      "source": [
        "class Quarto:\n",
        "    def __init__(self, sujo):\n",
        "        self.sujo = sujo # sujo == 1 / limpo == 0\n",
        "\n",
        "    def getSujo(self):\n",
        "        return self.sujo\n",
        "\n",
        "    def setSujo(self, sujo):\n",
        "        self.sujo = sujo"
      ],
      "metadata": {
        "id": "XUcns7Td5XEi"
      },
      "execution_count": 4,
      "outputs": []
    },
    {
      "cell_type": "markdown",
      "source": [
        "Nosso quarto possui dois métodos referentes a sujeira, onde retornamos true (ou 1) se o quarto está sujo e false (ou 0) se estiver limpo. E o outro método que altera o valor do sujo, onde usamos anteriormente para alterar (limpar) o valor do quarto para 0.\n",
        "\n",
        "#Função Principal"
      ],
      "metadata": {
        "id": "rBi2nQGL6Qc-"
      }
    },
    {
      "cell_type": "code",
      "source": [
        "import random"
      ],
      "metadata": {
        "id": "T8WNCIxwA8Qr"
      },
      "execution_count": null,
      "outputs": []
    },
    {
      "cell_type": "code",
      "source": [
        "def main(timer):\n",
        "    Marvin = Aspirador(random.randint(0, 1)) #aparecer em quarto aleatorio\n",
        "    quartos = []\n",
        "\n",
        "    for i in range(0, 2):\n",
        "        quartos.insert(i, Quarto(random.randint(0, 1)))\n",
        "\n",
        "\n",
        "    for i in range(0, timer):\n",
        "        Marvin.start(quartos)\n",
        "\n",
        "        for quarto in quartos:\n",
        "           quarto.setSujo(random.randint(0, 1))\n",
        "\n",
        "    print(str(Marvin.getPontos()))\n",
        "\n",
        "main(1000)"
      ],
      "metadata": {
        "id": "C2aqocqF8A7w"
      },
      "execution_count": null,
      "outputs": []
    },
    {
      "cell_type": "markdown",
      "source": [
        "Por fim, nossa função principal instancia nosso Marvin e o posiciona em algum dos quartos de forma aleatória usando uma função do import \"random\". Após isso, iremos selecionar de forma aleatória os quartos que forem ficaar sujos. Definimos um timer que faz essa passada em 1000 tempos e após todo esse período, printar a quantidade de pontos que ele fez ao limpar os quartos.\n",
        "\n",
        "#Código completo\n"
      ],
      "metadata": {
        "id": "0eocRx8u-tGx"
      }
    },
    {
      "cell_type": "code",
      "source": [
        "import random\n",
        "\n",
        "class Aspirador:\n",
        "    def __init__(self, posicao):\n",
        "        self.posicao = posicao\n",
        "        self.pontos = 0\n",
        "\n",
        "    def start(self, quartos):\n",
        "        self.limpaQuarto(quartos)\n",
        "\n",
        "    def mover(self, quartos):\n",
        "        if (self.posicao + 1 < len(quartos)):\n",
        "            self.direita()\n",
        "        else:\n",
        "            self.esquerda()\n",
        "\n",
        "\n",
        "    def direita(self):\n",
        "        self.posicao += 1\n",
        "\n",
        "    def esquerda(self):\n",
        "        self.posicao -= 1\n",
        "\n",
        "    def limpaQuarto(self, quartos):\n",
        "        if (quartos[self.posicao].getSujo()):\n",
        "            quartos[self.posicao].setSujo(0)\n",
        "            self.pontos += 1\n",
        "            self.mover(quartos)\n",
        "        else:\n",
        "            self.NoOp()\n",
        "            self.mover(quartos)\n",
        "\n",
        "    def NoOp(self):\n",
        "        pass\n",
        "\n",
        "    def getPontos(self):\n",
        "        return self.pontos\n",
        "\n",
        "class Quarto:\n",
        "    def __init__(self, sujo):\n",
        "        self.sujo = sujo # sujo == 1 / limpo == 0\n",
        "\n",
        "    def getSujo(self):\n",
        "        return self.sujo\n",
        "\n",
        "    def setSujo(self, sujo):\n",
        "        self.sujo = sujo\n",
        "\n",
        "\n",
        "def main(timer):\n",
        "    Marvin = Aspirador(random.randint(0, 1)) #aparecer em quarto aleatorio\n",
        "    quartos = []\n",
        "\n",
        "    for i in range(0, 2):\n",
        "        quartos.insert(i, Quarto(random.randint(0, 1)))\n",
        "\n",
        "\n",
        "    for i in range(0, timer):\n",
        "        Marvin.start(quartos)\n",
        "\n",
        "        for quarto in quartos:\n",
        "           quarto.setSujo(random.randint(0, 1))\n",
        "\n",
        "    print(str(Marvin.getPontos()))\n",
        "\n",
        "main(1000)"
      ],
      "metadata": {
        "colab": {
          "base_uri": "https://localhost:8080/"
        },
        "id": "13tI1Y5cHozf",
        "outputId": "dc3a582e-25d9-428e-fb22-53b87949db68"
      },
      "execution_count": 10,
      "outputs": [
        {
          "output_type": "stream",
          "name": "stdout",
          "text": [
            "496\n"
          ]
        }
      ]
    }
  ]
}